{
 "cells": [
  {
   "cell_type": "markdown",
   "id": "f427605a-e7ef-47fc-b7a1-d5d996078b32",
   "metadata": {},
   "source": [
    "# Analysis of Bias in the diabetes dataset\n"
   ]
  },
  {
   "cell_type": "raw",
   "id": "bbfbc3b0-2f86-4359-bc67-1f3ca789763a",
   "metadata": {},
   "source": [
    "NOTE: this analysis has been supported by an Ai assistant. "
   ]
  },
  {
   "cell_type": "markdown",
   "id": "fb165e7d-5948-4821-8131-ef1b7f6cb36f",
   "metadata": {},
   "source": [
    "### NOTE: the initial target for this analysis is 'readmitted'\n",
    " - eval readmission rates across the categorical features such as race, gender, admission type, discharge dispo, age etc.\n",
    " - discharge classifier..., discharge rates across the same features...\n",
    " - regression for health outcomes vs number of procedures...\n",
    " - regression for number of days vs discharge dispo.."
   ]
  },
  {
   "cell_type": "raw",
   "id": "5302b59f-8ff8-4fa1-861d-94bebaf91bf3",
   "metadata": {},
   "source": [
    "#This dataset contains the following features:\n",
    "1. encounter id: Integer unique identifier of an encounter.\n",
    "2. patient nbr: Integer unique identifier of a patient.\n",
    "3. race: Race of the patient, represented as a string (e.g., Caucasian, African American).\n",
    "4. gender: Gender of the patient, represented as a string (e.g., Male, Female).\n",
    "5. admission type id: Categorical ID representing the type of admission (e.g., emergency, urgent, elective) as a string.\n",
    "6. discharge disposition id: Categorical ID for patient dispo at discharge (e.g., discharged to home, transferred to another medical facility) as a string.\n",
    "7. admission source id: Categorical ID for source of the hospital admission (e.g., emergency room, physician referral) as a string.\n",
    "8. time in hospital: Integer number of days the patient stayed in the hospital.\n",
    "9. num lab procedures: Integer number of lab tests performed during the encounter.\n",
    "10. num procedures: Integer number of medical procedures (other than lab tests) performed\n",
    "during the encounter.\n",
    "11. num medications: Integer number of distinct medications prescribed during the encounter.\n",
    "12. number outpatient: Integer number of outpatient visits by the patient in the year preceding\n",
    "the encounter.\n",
    "13. number emergency: Integer number of emergency visits by the patient in the year preceding\n",
    "the encounter.\n",
    "14. number inpatient: Integer number of inpatient visits by the patient in the year preceding the\n",
    "encounter.\n",
    "15. diag 1: Primary diagnosis coded as an ICD-9 code.\n",
    "16. diag 2: Secondary diagnosis coded as an ICD-9 code.\n",
    "17. diag 3: Additional secondary diagnosis coded as an ICD-9 code.\n",
    "18. number diagnoses: Integer number of diagnoses entered in the system for the encounter.\n",
    "19. max glu serum: Maximum glucose serum test result during the encounter (e.g., None, Norm,\n",
    ">200, >300).\n",
    "20. A1Cresult: Result of the A1C test (e.g., None, Norm,>7, >8).\n",
    "21. metformin: Status of Metformin medication (e.g., No, Up, Down, Steady).\n",
    "22. repaglinide, nateglinide, chlorpropamide, glimepiride, acetohexamide, glipizide, gly-\n",
    "buride, tolbutamide, pioglitazone, rosiglitazone, acarbose, miglitol, troglitazone, to-\n",
    "lazamide, examide, citoglipton, insulin, glyburide-metformin, glipizide-metformin,\n",
    "glimepiride-pioglitazone, metformin-rosiglitazone, metformin-pioglitazone: Status of\n",
    "each medication (e.g., No, Up, Down, Steady).\n",
    "23. change: Indicates if there was any change in diabetic medications (Change/No Change).\n",
    "24. diabetesMed: Indicates if any diabetes medication was prescribed (Yes/No).\n",
    "25. readmitted: Category of readmission (e.g., <30, >30, No). This is essentially readmission in under 30 days and over 30 days...\n",
    "26. age catg: Categorized age of the patient, represented as a category (likely coded into categories\n",
    "such as 1[0 − 60), 1.5[60 − 80) and 2[80 − 100"
   ]
  },
  {
   "cell_type": "raw",
   "id": "3435b17c-a0ed-4141-bc8a-0fd70f1418ba",
   "metadata": {},
   "source": [
    "working outline: \n",
    "1. Review target (readmission or maybe readmit status). get a feel for proportions. get a feel for national averages\n",
    "2. review readmit by race, \n",
    "3. review readmit by gender, \n",
    "4. review readmit by admission type, \n",
    "5. review readmit by age\n",
    "6. review readmit by discharge dispo...."
   ]
  },
  {
   "cell_type": "raw",
   "id": "3f2b0551-bafd-4de2-b0c9-7c66dde9aff4",
   "metadata": {},
   "source": [
    "#OBJECTS: \n",
    "\n",
    "DATAFRAME1(df) - original diabetes data. \n",
    "DATAFRAME2(df) - added 'readmit_status'\n",
    "CHART1 - readmit status (Yes/No)\n",
    "CHART2 - readmits <> 30 days (proportions)\n"
   ]
  },
  {
   "cell_type": "code",
   "execution_count": 1,
   "id": "93caaaf5-3cf7-4771-8bb1-c490dd4da430",
   "metadata": {},
   "outputs": [],
   "source": [
    "#import libraries\n",
    "import datetime\n",
    "import numpy as np\n",
    "import pandas as pd\n",
    "import matplotlib.pyplot as plt\n",
    "import seaborn as sns\n",
    "import sklearn\n",
    "import statsmodels\n"
   ]
  },
  {
   "cell_type": "code",
   "execution_count": 2,
   "id": "1ce1e3af-c223-4a72-a924-2f774fbf964f",
   "metadata": {},
   "outputs": [],
   "source": [
    "#max rows and cols\n",
    "pd.set_option('display.max_rows', None)  # Show all rows\n",
    "pd.set_option('display.max_columns', None)  # Show all columns"
   ]
  },
  {
   "cell_type": "code",
   "execution_count": 9,
   "id": "16087c40-bb41-4d8c-89f0-fc64a32cdf29",
   "metadata": {},
   "outputs": [
    {
     "data": {
      "text/plain": [
       "'/Users/charles.tippett/Documents/MTSU/DATA6550/Projects/Group5/DATA6550_Group5/DATA6550_Bias/Analysis'"
      ]
     },
     "execution_count": 9,
     "metadata": {},
     "output_type": "execute_result"
    }
   ],
   "source": [
    "pwd"
   ]
  },
  {
   "cell_type": "code",
   "execution_count": 11,
   "id": "a6309a36-2adc-4807-9829-9d1e2d6004f4",
   "metadata": {},
   "outputs": [
    {
     "name": "stdout",
     "output_type": "stream",
     "text": [
      "/Users/charles.tippett/Documents/MTSU/DATA6550/Projects/Group5/DATA6550_Group5/DATA6550_Bias\n"
     ]
    }
   ],
   "source": [
    "cd .."
   ]
  },
  {
   "cell_type": "code",
   "execution_count": 12,
   "id": "c6e4e330-c5f8-4b00-b483-01eec651c37c",
   "metadata": {},
   "outputs": [
    {
     "name": "stdout",
     "output_type": "stream",
     "text": [
      "\u001b[34mAnalysis\u001b[m\u001b[m/      \u001b[34mCollaboration\u001b[m\u001b[m/ LICENSE\n",
      "\u001b[34mCode\u001b[m\u001b[m/          \u001b[34mData\u001b[m\u001b[m/          README.md\n"
     ]
    }
   ],
   "source": [
    "ls"
   ]
  },
  {
   "cell_type": "code",
   "execution_count": 13,
   "id": "1a4f1ffd-9391-45a7-a69d-1301afcece39",
   "metadata": {},
   "outputs": [],
   "source": [
    "df = pd.read_csv(\"Data/diabetes_data.csv\")"
   ]
  },
  {
   "cell_type": "code",
   "execution_count": 14,
   "id": "6c427de1-4c85-4b10-9452-2a8b3840fc0e",
   "metadata": {},
   "outputs": [
    {
     "data": {
      "text/html": [
       "<div>\n",
       "<style scoped>\n",
       "    .dataframe tbody tr th:only-of-type {\n",
       "        vertical-align: middle;\n",
       "    }\n",
       "\n",
       "    .dataframe tbody tr th {\n",
       "        vertical-align: top;\n",
       "    }\n",
       "\n",
       "    .dataframe thead th {\n",
       "        text-align: right;\n",
       "    }\n",
       "</style>\n",
       "<table border=\"1\" class=\"dataframe\">\n",
       "  <thead>\n",
       "    <tr style=\"text-align: right;\">\n",
       "      <th></th>\n",
       "      <th>encounter_id</th>\n",
       "      <th>patient_nbr</th>\n",
       "      <th>race</th>\n",
       "      <th>gender</th>\n",
       "      <th>admission_type_id</th>\n",
       "      <th>discharge_disposition_id</th>\n",
       "      <th>admission_source_id</th>\n",
       "      <th>time_in_hospital</th>\n",
       "      <th>num_lab_procedures</th>\n",
       "      <th>num_procedures</th>\n",
       "      <th>num_medications</th>\n",
       "      <th>number_outpatient</th>\n",
       "      <th>number_emergency</th>\n",
       "      <th>number_inpatient</th>\n",
       "      <th>diag_1</th>\n",
       "      <th>diag_2</th>\n",
       "      <th>diag_3</th>\n",
       "      <th>number_diagnoses</th>\n",
       "      <th>max_glu_serum</th>\n",
       "      <th>A1Cresult</th>\n",
       "      <th>metformin</th>\n",
       "      <th>repaglinide</th>\n",
       "      <th>nateglinide</th>\n",
       "      <th>chlorpropamide</th>\n",
       "      <th>glimepiride</th>\n",
       "      <th>acetohexamide</th>\n",
       "      <th>glipizide</th>\n",
       "      <th>glyburide</th>\n",
       "      <th>tolbutamide</th>\n",
       "      <th>pioglitazone</th>\n",
       "      <th>rosiglitazone</th>\n",
       "      <th>acarbose</th>\n",
       "      <th>miglitol</th>\n",
       "      <th>troglitazone</th>\n",
       "      <th>tolazamide</th>\n",
       "      <th>insulin</th>\n",
       "      <th>glyburide-metformin</th>\n",
       "      <th>glipizide-metformin</th>\n",
       "      <th>glimepiride-pioglitazone</th>\n",
       "      <th>metformin-rosiglitazone</th>\n",
       "      <th>metformin-pioglitazone</th>\n",
       "      <th>change</th>\n",
       "      <th>diabetesMed</th>\n",
       "      <th>readmitted</th>\n",
       "      <th>age_catg</th>\n",
       "    </tr>\n",
       "  </thead>\n",
       "  <tbody>\n",
       "    <tr>\n",
       "      <th>0</th>\n",
       "      <td>2278392</td>\n",
       "      <td>8222157</td>\n",
       "      <td>Caucasian</td>\n",
       "      <td>Female</td>\n",
       "      <td>u</td>\n",
       "      <td>u</td>\n",
       "      <td>r</td>\n",
       "      <td>1</td>\n",
       "      <td>41</td>\n",
       "      <td>0</td>\n",
       "      <td>1</td>\n",
       "      <td>0</td>\n",
       "      <td>0</td>\n",
       "      <td>0</td>\n",
       "      <td>Diabetes</td>\n",
       "      <td>Other</td>\n",
       "      <td>Other</td>\n",
       "      <td>1</td>\n",
       "      <td>NaN</td>\n",
       "      <td>NaN</td>\n",
       "      <td>No</td>\n",
       "      <td>No</td>\n",
       "      <td>No</td>\n",
       "      <td>No</td>\n",
       "      <td>No</td>\n",
       "      <td>No</td>\n",
       "      <td>No</td>\n",
       "      <td>No</td>\n",
       "      <td>No</td>\n",
       "      <td>No</td>\n",
       "      <td>No</td>\n",
       "      <td>No</td>\n",
       "      <td>No</td>\n",
       "      <td>No</td>\n",
       "      <td>No</td>\n",
       "      <td>No</td>\n",
       "      <td>No</td>\n",
       "      <td>No</td>\n",
       "      <td>No</td>\n",
       "      <td>No</td>\n",
       "      <td>No</td>\n",
       "      <td>No</td>\n",
       "      <td>No</td>\n",
       "      <td>NO</td>\n",
       "      <td>1.0</td>\n",
       "    </tr>\n",
       "    <tr>\n",
       "      <th>1</th>\n",
       "      <td>149190</td>\n",
       "      <td>55629189</td>\n",
       "      <td>Caucasian</td>\n",
       "      <td>Female</td>\n",
       "      <td>k</td>\n",
       "      <td>d</td>\n",
       "      <td>o</td>\n",
       "      <td>3</td>\n",
       "      <td>59</td>\n",
       "      <td>0</td>\n",
       "      <td>18</td>\n",
       "      <td>0</td>\n",
       "      <td>0</td>\n",
       "      <td>0</td>\n",
       "      <td>Other</td>\n",
       "      <td>Diabetes</td>\n",
       "      <td>Other</td>\n",
       "      <td>9</td>\n",
       "      <td>NaN</td>\n",
       "      <td>NaN</td>\n",
       "      <td>No</td>\n",
       "      <td>No</td>\n",
       "      <td>No</td>\n",
       "      <td>No</td>\n",
       "      <td>No</td>\n",
       "      <td>No</td>\n",
       "      <td>No</td>\n",
       "      <td>No</td>\n",
       "      <td>No</td>\n",
       "      <td>No</td>\n",
       "      <td>No</td>\n",
       "      <td>No</td>\n",
       "      <td>No</td>\n",
       "      <td>No</td>\n",
       "      <td>No</td>\n",
       "      <td>Up</td>\n",
       "      <td>No</td>\n",
       "      <td>No</td>\n",
       "      <td>No</td>\n",
       "      <td>No</td>\n",
       "      <td>No</td>\n",
       "      <td>Ch</td>\n",
       "      <td>Yes</td>\n",
       "      <td>&gt;30</td>\n",
       "      <td>1.0</td>\n",
       "    </tr>\n",
       "    <tr>\n",
       "      <th>2</th>\n",
       "      <td>64410</td>\n",
       "      <td>86047875</td>\n",
       "      <td>AfricanAmerican</td>\n",
       "      <td>Female</td>\n",
       "      <td>k</td>\n",
       "      <td>d</td>\n",
       "      <td>o</td>\n",
       "      <td>2</td>\n",
       "      <td>11</td>\n",
       "      <td>5</td>\n",
       "      <td>13</td>\n",
       "      <td>2</td>\n",
       "      <td>0</td>\n",
       "      <td>1</td>\n",
       "      <td>Other</td>\n",
       "      <td>Diabetes</td>\n",
       "      <td>Other</td>\n",
       "      <td>6</td>\n",
       "      <td>NaN</td>\n",
       "      <td>NaN</td>\n",
       "      <td>No</td>\n",
       "      <td>No</td>\n",
       "      <td>No</td>\n",
       "      <td>No</td>\n",
       "      <td>No</td>\n",
       "      <td>No</td>\n",
       "      <td>Steady</td>\n",
       "      <td>No</td>\n",
       "      <td>No</td>\n",
       "      <td>No</td>\n",
       "      <td>No</td>\n",
       "      <td>No</td>\n",
       "      <td>No</td>\n",
       "      <td>No</td>\n",
       "      <td>No</td>\n",
       "      <td>No</td>\n",
       "      <td>No</td>\n",
       "      <td>No</td>\n",
       "      <td>No</td>\n",
       "      <td>No</td>\n",
       "      <td>No</td>\n",
       "      <td>No</td>\n",
       "      <td>Yes</td>\n",
       "      <td>NO</td>\n",
       "      <td>1.0</td>\n",
       "    </tr>\n",
       "    <tr>\n",
       "      <th>3</th>\n",
       "      <td>500364</td>\n",
       "      <td>82442376</td>\n",
       "      <td>Caucasian</td>\n",
       "      <td>Male</td>\n",
       "      <td>k</td>\n",
       "      <td>d</td>\n",
       "      <td>o</td>\n",
       "      <td>2</td>\n",
       "      <td>44</td>\n",
       "      <td>1</td>\n",
       "      <td>16</td>\n",
       "      <td>0</td>\n",
       "      <td>0</td>\n",
       "      <td>0</td>\n",
       "      <td>Other</td>\n",
       "      <td>Diabetes</td>\n",
       "      <td>Circulatory</td>\n",
       "      <td>7</td>\n",
       "      <td>NaN</td>\n",
       "      <td>NaN</td>\n",
       "      <td>No</td>\n",
       "      <td>No</td>\n",
       "      <td>No</td>\n",
       "      <td>No</td>\n",
       "      <td>No</td>\n",
       "      <td>No</td>\n",
       "      <td>No</td>\n",
       "      <td>No</td>\n",
       "      <td>No</td>\n",
       "      <td>No</td>\n",
       "      <td>No</td>\n",
       "      <td>No</td>\n",
       "      <td>No</td>\n",
       "      <td>No</td>\n",
       "      <td>No</td>\n",
       "      <td>Up</td>\n",
       "      <td>No</td>\n",
       "      <td>No</td>\n",
       "      <td>No</td>\n",
       "      <td>No</td>\n",
       "      <td>No</td>\n",
       "      <td>Ch</td>\n",
       "      <td>Yes</td>\n",
       "      <td>NO</td>\n",
       "      <td>1.0</td>\n",
       "    </tr>\n",
       "    <tr>\n",
       "      <th>4</th>\n",
       "      <td>16680</td>\n",
       "      <td>42519267</td>\n",
       "      <td>Caucasian</td>\n",
       "      <td>Male</td>\n",
       "      <td>k</td>\n",
       "      <td>d</td>\n",
       "      <td>o</td>\n",
       "      <td>1</td>\n",
       "      <td>51</td>\n",
       "      <td>0</td>\n",
       "      <td>8</td>\n",
       "      <td>0</td>\n",
       "      <td>0</td>\n",
       "      <td>0</td>\n",
       "      <td>Neoplasms</td>\n",
       "      <td>Neoplasms</td>\n",
       "      <td>Diabetes</td>\n",
       "      <td>5</td>\n",
       "      <td>NaN</td>\n",
       "      <td>NaN</td>\n",
       "      <td>No</td>\n",
       "      <td>No</td>\n",
       "      <td>No</td>\n",
       "      <td>No</td>\n",
       "      <td>No</td>\n",
       "      <td>No</td>\n",
       "      <td>Steady</td>\n",
       "      <td>No</td>\n",
       "      <td>No</td>\n",
       "      <td>No</td>\n",
       "      <td>No</td>\n",
       "      <td>No</td>\n",
       "      <td>No</td>\n",
       "      <td>No</td>\n",
       "      <td>No</td>\n",
       "      <td>Steady</td>\n",
       "      <td>No</td>\n",
       "      <td>No</td>\n",
       "      <td>No</td>\n",
       "      <td>No</td>\n",
       "      <td>No</td>\n",
       "      <td>Ch</td>\n",
       "      <td>Yes</td>\n",
       "      <td>NO</td>\n",
       "      <td>1.0</td>\n",
       "    </tr>\n",
       "  </tbody>\n",
       "</table>\n",
       "</div>"
      ],
      "text/plain": [
       "   encounter_id  patient_nbr             race  gender admission_type_id  \\\n",
       "0       2278392      8222157        Caucasian  Female                 u   \n",
       "1        149190     55629189        Caucasian  Female                 k   \n",
       "2         64410     86047875  AfricanAmerican  Female                 k   \n",
       "3        500364     82442376        Caucasian    Male                 k   \n",
       "4         16680     42519267        Caucasian    Male                 k   \n",
       "\n",
       "  discharge_disposition_id admission_source_id  time_in_hospital  \\\n",
       "0                        u                   r                 1   \n",
       "1                        d                   o                 3   \n",
       "2                        d                   o                 2   \n",
       "3                        d                   o                 2   \n",
       "4                        d                   o                 1   \n",
       "\n",
       "   num_lab_procedures  num_procedures  num_medications  number_outpatient  \\\n",
       "0                  41               0                1                  0   \n",
       "1                  59               0               18                  0   \n",
       "2                  11               5               13                  2   \n",
       "3                  44               1               16                  0   \n",
       "4                  51               0                8                  0   \n",
       "\n",
       "   number_emergency  number_inpatient     diag_1     diag_2       diag_3  \\\n",
       "0                 0                 0   Diabetes      Other        Other   \n",
       "1                 0                 0      Other   Diabetes        Other   \n",
       "2                 0                 1      Other   Diabetes        Other   \n",
       "3                 0                 0      Other   Diabetes  Circulatory   \n",
       "4                 0                 0  Neoplasms  Neoplasms     Diabetes   \n",
       "\n",
       "   number_diagnoses max_glu_serum A1Cresult metformin repaglinide nateglinide  \\\n",
       "0                 1           NaN       NaN        No          No          No   \n",
       "1                 9           NaN       NaN        No          No          No   \n",
       "2                 6           NaN       NaN        No          No          No   \n",
       "3                 7           NaN       NaN        No          No          No   \n",
       "4                 5           NaN       NaN        No          No          No   \n",
       "\n",
       "  chlorpropamide glimepiride acetohexamide glipizide glyburide tolbutamide  \\\n",
       "0             No          No            No        No        No          No   \n",
       "1             No          No            No        No        No          No   \n",
       "2             No          No            No    Steady        No          No   \n",
       "3             No          No            No        No        No          No   \n",
       "4             No          No            No    Steady        No          No   \n",
       "\n",
       "  pioglitazone rosiglitazone acarbose miglitol troglitazone tolazamide  \\\n",
       "0           No            No       No       No           No         No   \n",
       "1           No            No       No       No           No         No   \n",
       "2           No            No       No       No           No         No   \n",
       "3           No            No       No       No           No         No   \n",
       "4           No            No       No       No           No         No   \n",
       "\n",
       "  insulin glyburide-metformin glipizide-metformin glimepiride-pioglitazone  \\\n",
       "0      No                  No                  No                       No   \n",
       "1      Up                  No                  No                       No   \n",
       "2      No                  No                  No                       No   \n",
       "3      Up                  No                  No                       No   \n",
       "4  Steady                  No                  No                       No   \n",
       "\n",
       "  metformin-rosiglitazone metformin-pioglitazone change diabetesMed  \\\n",
       "0                      No                     No     No          No   \n",
       "1                      No                     No     Ch         Yes   \n",
       "2                      No                     No     No         Yes   \n",
       "3                      No                     No     Ch         Yes   \n",
       "4                      No                     No     Ch         Yes   \n",
       "\n",
       "  readmitted  age_catg  \n",
       "0         NO       1.0  \n",
       "1        >30       1.0  \n",
       "2         NO       1.0  \n",
       "3         NO       1.0  \n",
       "4         NO       1.0  "
      ]
     },
     "execution_count": 14,
     "metadata": {},
     "output_type": "execute_result"
    }
   ],
   "source": [
    "df.head()"
   ]
  },
  {
   "cell_type": "code",
   "execution_count": 15,
   "id": "78406b42-3155-49fd-82b4-4beae4c68338",
   "metadata": {},
   "outputs": [
    {
     "name": "stdout",
     "output_type": "stream",
     "text": [
      "<class 'pandas.core.frame.DataFrame'>\n",
      "RangeIndex: 100111 entries, 0 to 100110\n",
      "Data columns (total 45 columns):\n",
      " #   Column                    Non-Null Count   Dtype  \n",
      "---  ------                    --------------   -----  \n",
      " 0   encounter_id              100111 non-null  int64  \n",
      " 1   patient_nbr               100111 non-null  int64  \n",
      " 2   race                      100111 non-null  object \n",
      " 3   gender                    100111 non-null  object \n",
      " 4   admission_type_id         100111 non-null  object \n",
      " 5   discharge_disposition_id  100111 non-null  object \n",
      " 6   admission_source_id       100111 non-null  object \n",
      " 7   time_in_hospital          100111 non-null  int64  \n",
      " 8   num_lab_procedures        100111 non-null  int64  \n",
      " 9   num_procedures            100111 non-null  int64  \n",
      " 10  num_medications           100111 non-null  int64  \n",
      " 11  number_outpatient         100111 non-null  int64  \n",
      " 12  number_emergency          100111 non-null  int64  \n",
      " 13  number_inpatient          100111 non-null  int64  \n",
      " 14  diag_1                    100111 non-null  object \n",
      " 15  diag_2                    100111 non-null  object \n",
      " 16  diag_3                    100111 non-null  object \n",
      " 17  number_diagnoses          100111 non-null  int64  \n",
      " 18  max_glu_serum             5224 non-null    object \n",
      " 19  A1Cresult                 16876 non-null   object \n",
      " 20  metformin                 100111 non-null  object \n",
      " 21  repaglinide               100111 non-null  object \n",
      " 22  nateglinide               100111 non-null  object \n",
      " 23  chlorpropamide            100111 non-null  object \n",
      " 24  glimepiride               100111 non-null  object \n",
      " 25  acetohexamide             100111 non-null  object \n",
      " 26  glipizide                 100111 non-null  object \n",
      " 27  glyburide                 100111 non-null  object \n",
      " 28  tolbutamide               100111 non-null  object \n",
      " 29  pioglitazone              100111 non-null  object \n",
      " 30  rosiglitazone             100111 non-null  object \n",
      " 31  acarbose                  100111 non-null  object \n",
      " 32  miglitol                  100111 non-null  object \n",
      " 33  troglitazone              100111 non-null  object \n",
      " 34  tolazamide                100111 non-null  object \n",
      " 35  insulin                   100111 non-null  object \n",
      " 36  glyburide-metformin       100111 non-null  object \n",
      " 37  glipizide-metformin       100111 non-null  object \n",
      " 38  glimepiride-pioglitazone  100111 non-null  object \n",
      " 39  metformin-rosiglitazone   100111 non-null  object \n",
      " 40  metformin-pioglitazone    100111 non-null  object \n",
      " 41  change                    100111 non-null  object \n",
      " 42  diabetesMed               100111 non-null  object \n",
      " 43  readmitted                100111 non-null  object \n",
      " 44  age_catg                  100111 non-null  float64\n",
      "dtypes: float64(1), int64(10), object(34)\n",
      "memory usage: 34.4+ MB\n"
     ]
    }
   ],
   "source": [
    "df.info()"
   ]
  },
  {
   "cell_type": "markdown",
   "id": "7c0a9fea-bf2a-4c6d-b8c9-b8b4fb87bf77",
   "metadata": {},
   "source": [
    "## Step1: create readmit_status so it's Yes/No and get a feel for the proportions"
   ]
  },
  {
   "cell_type": "code",
   "execution_count": 22,
   "id": "ac16c6d6-23ee-43bf-a603-5003af5b608d",
   "metadata": {},
   "outputs": [
    {
     "data": {
      "text/plain": [
       "0      NO\n",
       "1     >30\n",
       "2      NO\n",
       "3      NO\n",
       "4      NO\n",
       "5     >30\n",
       "6      NO\n",
       "7     >30\n",
       "8      NO\n",
       "9      NO\n",
       "10    >30\n",
       "11    <30\n",
       "12    <30\n",
       "13     NO\n",
       "14    >30\n",
       "15     NO\n",
       "16    <30\n",
       "17     NO\n",
       "18    >30\n",
       "19     NO\n",
       "20     NO\n",
       "21     NO\n",
       "22     NO\n",
       "23    >30\n",
       "24     NO\n",
       "Name: readmitted, dtype: object"
      ]
     },
     "execution_count": 22,
     "metadata": {},
     "output_type": "execute_result"
    }
   ],
   "source": [
    "df.readmitted.head(25)"
   ]
  },
  {
   "cell_type": "code",
   "execution_count": 18,
   "id": "1fce6d37-0a12-4c20-ba3f-45140a98429d",
   "metadata": {},
   "outputs": [
    {
     "name": "stdout",
     "output_type": "stream",
     "text": [
      "  readmitted readmit_status\n",
      "0         NO             NO\n",
      "1        >30            YES\n",
      "2         NO             NO\n",
      "3         NO             NO\n",
      "4         NO             NO\n",
      "readmit_status\n",
      "NO     53209\n",
      "YES    46902\n",
      "Name: count, dtype: int64\n"
     ]
    }
   ],
   "source": [
    "#create readmit_status\n",
    "df['readmit_status'] = df['readmitted'].apply(lambda x: 'NO' if x == 'NO' else 'YES')\n",
    "\n",
    "print(df[['readmitted', 'readmit_status']].head())\n",
    "print(df['readmit_status'].value_counts())"
   ]
  },
  {
   "cell_type": "code",
   "execution_count": 19,
   "id": "81baba41-e46b-4439-9775-87878ef6c894",
   "metadata": {},
   "outputs": [
    {
     "data": {
      "image/png": "[encoded data removed]",
      "text/plain": [
       "<Figure size 600x600 with 1 Axes>"
      ]
     },
     "metadata": {},
     "output_type": "display_data"
    }
   ],
   "source": [
    "#CHART1 - readmit_status\n",
    "readmit_counts = df['readmit_status'].value_counts()\n",
    "readmit_proportions = df['readmit_status'].value_counts(normalize=True)\n",
    "\n",
    "plt.figure(figsize=(6, 6))\n",
    "plt.pie(readmit_proportions, labels=readmit_counts.index, autopct='%1.1f%%', startangle=90)\n",
    "plt.title(\"Proportion of Readmission Status (Yes/No)\")\n",
    "plt.show()"
   ]
  },
  {
   "cell_type": "raw",
   "id": "ef820a81-f75a-4c90-8e40-dba808450bd7",
   "metadata": {},
   "source": [
    "Google search: average readmission rates for diabetes patients in US\n",
    "Search Labs | AI Overview: \n",
    "According to recent studies, the average 30-day readmission rate for hospitalized patients with diabetes in the US is estimated to be between 14.4% and 22.7% which is significantly higher than the rate for all hospitalized patients, typically ranging from 8.5% to 13.5%\n",
    "\n",
    "NOTE: \n",
    "1. obvioiusly, clearly - readmissions among diabetes patients is much higher than the  us average. \n",
    "2. what's interesting here is that readmission in our dataset is much higher than the national average. 46.8 to 22.7 (the high end of the range given by google). So with this data, we are really 2x the national average. \n",
    "3. is it possible the whole dataset is biased from teh start, not just within groups in the data?"
   ]
  },
  {
   "cell_type": "code",
   "execution_count": 35,
   "id": "008998ad-b9b3-40f2-a738-ffb0d51f0595",
   "metadata": {},
   "outputs": [
    {
     "data": {
      "text/plain": [
       "(46902, 46)"
      ]
     },
     "execution_count": 35,
     "metadata": {},
     "output_type": "execute_result"
    }
   ],
   "source": [
    "#Yes only\n",
    "readmitted_YES = df[df['readmitted']!= 'NO']\n",
    "readmitted_YES.shape"
   ]
  },
  {
   "cell_type": "code",
   "execution_count": 36,
   "id": "65c6d83c-4f63-4cec-83a8-2cfe79bc7ebe",
   "metadata": {},
   "outputs": [
    {
     "name": "stdout",
     "output_type": "stream",
     "text": [
      "readmitted\n",
      ">30    35545\n",
      "<30    11357\n",
      "Name: count, dtype: int64\n"
     ]
    }
   ],
   "source": [
    "print(readmitted_YES['readmitted'].value_counts())"
   ]
  },
  {
   "cell_type": "code",
   "execution_count": 38,
   "id": "a408b51b-de0c-4d60-a8fd-6b7d928dec69",
   "metadata": {},
   "outputs": [
    {
     "data": {
      "image/png": "[encoded data removed]",
      "text/plain": [
       "<Figure size 600x600 with 1 Axes>"
      ]
     },
     "metadata": {},
     "output_type": "display_data"
    }
   ],
   "source": [
    "#CHART2 - Readmit <>30 days proportions\n",
    "readmitted_counts = readmitted_df['readmitted'].value_counts()\n",
    "readmitted_proportions = readmitted_df['readmitted'].value_counts(normalize=True)\n",
    "\n",
    "plt.figure(figsize=(6, 6))\n",
    "plt.pie(readmitted_proportions, labels=readmitted_counts.index, autopct='%1.1f%%', startangle=90)\n",
    "plt.title(\"Proportion of Readmissions over 30 days and under 30 days\")\n",
    "plt.show()"
   ]
  },
  {
   "cell_type": "markdown",
   "id": "32bb2ccc-23c6-4292-a0d6-9d992aeb7b2e",
   "metadata": {},
   "source": [
    "## Step2: Look at readmits by tje different classifiers"
   ]
  },
  {
   "cell_type": "code",
   "execution_count": 49,
   "id": "0b65bc32-4909-4374-a462-60164437d176",
   "metadata": {},
   "outputs": [
    {
     "data": {
      "text/html": [
       "<div>\n",
       "<style scoped>\n",
       "    .dataframe tbody tr th:only-of-type {\n",
       "        vertical-align: middle;\n",
       "    }\n",
       "\n",
       "    .dataframe tbody tr th {\n",
       "        vertical-align: top;\n",
       "    }\n",
       "\n",
       "    .dataframe thead th {\n",
       "        text-align: right;\n",
       "    }\n",
       "</style>\n",
       "<table border=\"1\" class=\"dataframe\">\n",
       "  <thead>\n",
       "    <tr style=\"text-align: right;\">\n",
       "      <th></th>\n",
       "      <th>total_count</th>\n",
       "      <th>count</th>\n",
       "    </tr>\n",
       "  </thead>\n",
       "  <tbody>\n",
       "    <tr>\n",
       "      <th>0</th>\n",
       "      <td>Caucasian</td>\n",
       "      <td>74845</td>\n",
       "    </tr>\n",
       "    <tr>\n",
       "      <th>1</th>\n",
       "      <td>AfricanAmerican</td>\n",
       "      <td>18888</td>\n",
       "    </tr>\n",
       "    <tr>\n",
       "      <th>2</th>\n",
       "      <td>Unknown</td>\n",
       "      <td>2237</td>\n",
       "    </tr>\n",
       "    <tr>\n",
       "      <th>3</th>\n",
       "      <td>Hispanic</td>\n",
       "      <td>2024</td>\n",
       "    </tr>\n",
       "    <tr>\n",
       "      <th>4</th>\n",
       "      <td>Other</td>\n",
       "      <td>1485</td>\n",
       "    </tr>\n",
       "    <tr>\n",
       "      <th>5</th>\n",
       "      <td>Asian</td>\n",
       "      <td>632</td>\n",
       "    </tr>\n",
       "  </tbody>\n",
       "</table>\n",
       "</div>"
      ],
      "text/plain": [
       "       total_count  count\n",
       "0        Caucasian  74845\n",
       "1  AfricanAmerican  18888\n",
       "2          Unknown   2237\n",
       "3         Hispanic   2024\n",
       "4            Other   1485\n",
       "5            Asian    632"
      ]
     },
     "execution_count": 49,
     "metadata": {},
     "output_type": "execute_result"
    }
   ],
   "source": [
    "#counts by race\n",
    "race_counts = df['race'].value_counts().reset_index()\n",
    "race_counts.rename(columns={'index': 'race', 'race': 'total_count'}, inplace=True)\n",
    "race_counts"
   ]
  },
  {
   "cell_type": "code",
   "execution_count": 56,
   "id": "c8d59899-e652-417f-b205-83bed55698e9",
   "metadata": {},
   "outputs": [
    {
     "data": {
      "text/html": [
       "<div>\n",
       "<style scoped>\n",
       "    .dataframe tbody tr th:only-of-type {\n",
       "        vertical-align: middle;\n",
       "    }\n",
       "\n",
       "    .dataframe tbody tr th {\n",
       "        vertical-align: top;\n",
       "    }\n",
       "\n",
       "    .dataframe thead th {\n",
       "        text-align: right;\n",
       "    }\n",
       "</style>\n",
       "<table border=\"1\" class=\"dataframe\">\n",
       "  <thead>\n",
       "    <tr style=\"text-align: right;\">\n",
       "      <th></th>\n",
       "      <th>race</th>\n",
       "      <th>readmission_count</th>\n",
       "      <th>readmission_percentage</th>\n",
       "    </tr>\n",
       "  </thead>\n",
       "  <tbody>\n",
       "    <tr>\n",
       "      <th>0</th>\n",
       "      <td>AfricanAmerican</td>\n",
       "      <td>8789</td>\n",
       "      <td>18.739073</td>\n",
       "    </tr>\n",
       "    <tr>\n",
       "      <th>1</th>\n",
       "      <td>Asian</td>\n",
       "      <td>226</td>\n",
       "      <td>0.481856</td>\n",
       "    </tr>\n",
       "    <tr>\n",
       "      <th>2</th>\n",
       "      <td>Caucasian</td>\n",
       "      <td>35716</td>\n",
       "      <td>76.150271</td>\n",
       "    </tr>\n",
       "    <tr>\n",
       "      <th>3</th>\n",
       "      <td>Hispanic</td>\n",
       "      <td>854</td>\n",
       "      <td>1.820818</td>\n",
       "    </tr>\n",
       "    <tr>\n",
       "      <th>4</th>\n",
       "      <td>Other</td>\n",
       "      <td>591</td>\n",
       "      <td>1.260074</td>\n",
       "    </tr>\n",
       "    <tr>\n",
       "      <th>5</th>\n",
       "      <td>Unknown</td>\n",
       "      <td>726</td>\n",
       "      <td>1.547908</td>\n",
       "    </tr>\n",
       "  </tbody>\n",
       "</table>\n",
       "</div>"
      ],
      "text/plain": [
       "              race  readmission_count  readmission_percentage\n",
       "0  AfricanAmerican               8789               18.739073\n",
       "1            Asian                226                0.481856\n",
       "2        Caucasian              35716               76.150271\n",
       "3         Hispanic                854                1.820818\n",
       "4            Other                591                1.260074\n",
       "5          Unknown                726                1.547908"
      ]
     },
     "execution_count": 56,
     "metadata": {},
     "output_type": "execute_result"
    }
   ],
   "source": [
    "#readmits by race\n",
    "readmits_by_race = df_YES.groupby('race')['readmitted'].count().reset_index()\n",
    "readmits_by_race.rename(columns={'readmitted': 'readmission_count'}, inplace=True)\n",
    "total_readmits_race = readmits_by_race['readmission_count'].sum()\n",
    "readmits_by_race['readmission_percentage'] = (readmissions_by_race['readmission_count'] / total_readmissions_race) * 100\n",
    "\n",
    "readmits_by_race\n"
   ]
  },
  {
   "cell_type": "code",
   "execution_count": 71,
   "id": "fa8ac7ae-c20d-4be4-8520-21d4be4aee7b",
   "metadata": {},
   "outputs": [],
   "source": [
    "#reset index in race_counts\n",
    "race_counts = race_counts.reset_index()\n",
    "race_counts.rename(columns={'index': 'race'}, inplace=True)\n"
   ]
  },
  {
   "cell_type": "code",
   "execution_count": 72,
   "id": "642734dd-6b25-4b66-88d3-a7b6561cfa06",
   "metadata": {},
   "outputs": [],
   "source": [
    "#convert race to string format\n",
    "race_counts['race'] = race_counts['race'].astype(str)\n",
    "readmits_by_race['race'] = readmits_by_race['race'].astype(str)\n"
   ]
  },
  {
   "cell_type": "code",
   "execution_count": 74,
   "id": "4b83910b-92f4-4947-b424-82c83142d269",
   "metadata": {},
   "outputs": [
    {
     "name": "stdout",
     "output_type": "stream",
     "text": [
      "race_counts columns: ['race', 'race', 'total_count', 'count']\n",
      "readmits_by_race columns: ['race', 'readmission_count', 'readmission_percentage']\n"
     ]
    }
   ],
   "source": [
    "print(\"race_counts columns:\", race_counts.columns.tolist())\n",
    "print(\"readmits_by_race columns:\", readmits_by_race.columns.tolist())\n"
   ]
  },
  {
   "cell_type": "code",
   "execution_count": 75,
   "id": "d164fc1f-d088-4fd2-98cb-49eb6d856926",
   "metadata": {},
   "outputs": [],
   "source": [
    "#dedupe 'race' (see above for the error)\n",
    "race_counts = race_counts.loc[:, ~race_counts.columns.duplicated()]\n"
   ]
  },
  {
   "cell_type": "code",
   "execution_count": 76,
   "id": "a7e514b8-f283-479c-8d79-217c9b7fe32e",
   "metadata": {},
   "outputs": [
    {
     "name": "stdout",
     "output_type": "stream",
     "text": [
      "Updated race_counts columns: ['race', 'total_count', 'count']\n"
     ]
    }
   ],
   "source": [
    "print(\"Updated race_counts columns:\", race_counts.columns.tolist())\n"
   ]
  },
  {
   "cell_type": "code",
   "execution_count": 78,
   "id": "94aea1b7-7ef5-4c59-953f-eaad941eb570",
   "metadata": {},
   "outputs": [],
   "source": [
    "race_counts = race_counts.copy()\n"
   ]
  },
  {
   "cell_type": "code",
   "execution_count": 79,
   "id": "87ca733b-b218-4636-94c0-cd8d293f96b1",
   "metadata": {},
   "outputs": [],
   "source": [
    "race_counts['race'] = race_counts['race'].astype(str)\n",
    "readmits_by_race['race'] = readmits_by_race['race'].astype(str)\n"
   ]
  },
  {
   "cell_type": "code",
   "execution_count": 82,
   "id": "22d6f223-8f71-4a96-aa6d-a79b879d734f",
   "metadata": {},
   "outputs": [
    {
     "name": "stdout",
     "output_type": "stream",
     "text": [
      "  race      total_count  count  readmission_count  readmission_percentage\n",
      "0    0        Caucasian  74845                0.0                     0.0\n",
      "1    1  AfricanAmerican  18888                0.0                     0.0\n",
      "2    2          Unknown   2237                0.0                     0.0\n",
      "3    3         Hispanic   2024                0.0                     0.0\n",
      "4    4            Other   1485                0.0                     0.0\n"
     ]
    }
   ],
   "source": [
    "#merge df_readmits\n",
    "df_readmits = race_counts.merge(readmits_by_race, on='race', how='left')\n",
    "\n",
    "#fix NaNs\n",
    "df_readmits[['readmission_count', 'readmission_percentage']] = merged_df[['readmission_count', 'readmission_percentage']].fillna(0)\n",
    "\n",
    "print(merged_df.head())\n"
   ]
  },
  {
   "cell_type": "code",
   "execution_count": null,
   "id": "6d2b6adb-11c3-4c1d-a381-9a5e0ee4336e",
   "metadata": {},
   "outputs": [],
   "source": []
  }
 ],
 "metadata": {
  "kernelspec": {
   "display_name": "Python 3 (ipykernel)",
   "language": "python",
   "name": "python3"
  },
  "language_info": {
   "codemirror_mode": {
    "name": "ipython",
    "version": 3
   },
   "file_extension": ".py",
   "mimetype": "text/x-python",
   "name": "python",
   "nbconvert_exporter": "python",
   "pygments_lexer": "ipython3",
   "version": "3.9.21"
  }
 },
 "nbformat": 4,
 "nbformat_minor": 5
}
