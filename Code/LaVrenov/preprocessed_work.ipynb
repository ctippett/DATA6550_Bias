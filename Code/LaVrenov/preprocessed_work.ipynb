{
 "cells": [
  {
   "cell_type": "markdown",
   "id": "122fe84c-5dae-4802-8d81-d16ccdf41736",
   "metadata": {},
   "source": [
    "## DATA-6550 Data Bias Project"
   ]
  },
  {
   "cell_type": "code",
   "execution_count": 1,
   "id": "39afc683-b025-45a0-8e4c-0e924c08d6e3",
   "metadata": {},
   "outputs": [],
   "source": [
    "import pandas as pd\n",
    "\n",
    "# from sklearn.model_selection import train_test_split"
   ]
  },
  {
   "cell_type": "markdown",
   "id": "7e30f1b1-d8af-4409-aad3-3bb8bf47629d",
   "metadata": {},
   "source": [
    "---"
   ]
  },
  {
   "cell_type": "markdown",
   "id": "e77922ee-abdd-41da-9c81-5e5a27d3e664",
   "metadata": {},
   "source": [
    "### Data Load:"
   ]
  },
  {
   "cell_type": "code",
   "execution_count": 2,
   "id": "17a8fdef-0abd-4d00-960e-877efda0b156",
   "metadata": {},
   "outputs": [],
   "source": [
    "df = pd.read_csv('../../Data/diabetes_data.csv')"
   ]
  },
  {
   "cell_type": "code",
   "execution_count": 3,
   "id": "78f56a08-0d2a-4221-bfe7-b1a3e9177ee3",
   "metadata": {},
   "outputs": [
    {
     "data": {
      "text/html": [
       "<div>\n",
       "<style scoped>\n",
       "    .dataframe tbody tr th:only-of-type {\n",
       "        vertical-align: middle;\n",
       "    }\n",
       "\n",
       "    .dataframe tbody tr th {\n",
       "        vertical-align: top;\n",
       "    }\n",
       "\n",
       "    .dataframe thead th {\n",
       "        text-align: right;\n",
       "    }\n",
       "</style>\n",
       "<table border=\"1\" class=\"dataframe\">\n",
       "  <thead>\n",
       "    <tr style=\"text-align: right;\">\n",
       "      <th></th>\n",
       "      <th>encounter_id</th>\n",
       "      <th>patient_nbr</th>\n",
       "      <th>race</th>\n",
       "      <th>gender</th>\n",
       "      <th>admission_type_id</th>\n",
       "      <th>discharge_disposition_id</th>\n",
       "      <th>admission_source_id</th>\n",
       "      <th>time_in_hospital</th>\n",
       "      <th>num_lab_procedures</th>\n",
       "      <th>num_procedures</th>\n",
       "      <th>...</th>\n",
       "      <th>insulin</th>\n",
       "      <th>glyburide-metformin</th>\n",
       "      <th>glipizide-metformin</th>\n",
       "      <th>glimepiride-pioglitazone</th>\n",
       "      <th>metformin-rosiglitazone</th>\n",
       "      <th>metformin-pioglitazone</th>\n",
       "      <th>change</th>\n",
       "      <th>diabetesMed</th>\n",
       "      <th>readmitted</th>\n",
       "      <th>age_catg</th>\n",
       "    </tr>\n",
       "  </thead>\n",
       "  <tbody>\n",
       "    <tr>\n",
       "      <th>0</th>\n",
       "      <td>2278392</td>\n",
       "      <td>8222157</td>\n",
       "      <td>Caucasian</td>\n",
       "      <td>Female</td>\n",
       "      <td>u</td>\n",
       "      <td>u</td>\n",
       "      <td>r</td>\n",
       "      <td>1</td>\n",
       "      <td>41</td>\n",
       "      <td>0</td>\n",
       "      <td>...</td>\n",
       "      <td>No</td>\n",
       "      <td>No</td>\n",
       "      <td>No</td>\n",
       "      <td>No</td>\n",
       "      <td>No</td>\n",
       "      <td>No</td>\n",
       "      <td>No</td>\n",
       "      <td>No</td>\n",
       "      <td>NO</td>\n",
       "      <td>1.0</td>\n",
       "    </tr>\n",
       "    <tr>\n",
       "      <th>1</th>\n",
       "      <td>149190</td>\n",
       "      <td>55629189</td>\n",
       "      <td>Caucasian</td>\n",
       "      <td>Female</td>\n",
       "      <td>k</td>\n",
       "      <td>d</td>\n",
       "      <td>o</td>\n",
       "      <td>3</td>\n",
       "      <td>59</td>\n",
       "      <td>0</td>\n",
       "      <td>...</td>\n",
       "      <td>Up</td>\n",
       "      <td>No</td>\n",
       "      <td>No</td>\n",
       "      <td>No</td>\n",
       "      <td>No</td>\n",
       "      <td>No</td>\n",
       "      <td>Ch</td>\n",
       "      <td>Yes</td>\n",
       "      <td>&gt;30</td>\n",
       "      <td>1.0</td>\n",
       "    </tr>\n",
       "  </tbody>\n",
       "</table>\n",
       "<p>2 rows × 45 columns</p>\n",
       "</div>"
      ],
      "text/plain": [
       "   encounter_id  patient_nbr       race  gender admission_type_id  \\\n",
       "0       2278392      8222157  Caucasian  Female                 u   \n",
       "1        149190     55629189  Caucasian  Female                 k   \n",
       "\n",
       "  discharge_disposition_id admission_source_id  time_in_hospital  \\\n",
       "0                        u                   r                 1   \n",
       "1                        d                   o                 3   \n",
       "\n",
       "   num_lab_procedures  num_procedures  ...  insulin  glyburide-metformin  \\\n",
       "0                  41               0  ...       No                   No   \n",
       "1                  59               0  ...       Up                   No   \n",
       "\n",
       "   glipizide-metformin  glimepiride-pioglitazone metformin-rosiglitazone  \\\n",
       "0                   No                        No                      No   \n",
       "1                   No                        No                      No   \n",
       "\n",
       "  metformin-pioglitazone change  diabetesMed readmitted age_catg  \n",
       "0                     No     No           No         NO      1.0  \n",
       "1                     No     Ch          Yes        >30      1.0  \n",
       "\n",
       "[2 rows x 45 columns]"
      ]
     },
     "execution_count": 3,
     "metadata": {},
     "output_type": "execute_result"
    }
   ],
   "source": [
    "df.head(2)"
   ]
  },
  {
   "cell_type": "code",
   "execution_count": 4,
   "id": "1f1ada4d-fa7f-4901-a05a-1121722ef712",
   "metadata": {},
   "outputs": [
    {
     "name": "stdout",
     "output_type": "stream",
     "text": [
      "<class 'pandas.core.frame.DataFrame'>\n",
      "RangeIndex: 100111 entries, 0 to 100110\n",
      "Data columns (total 45 columns):\n",
      " #   Column                    Non-Null Count   Dtype  \n",
      "---  ------                    --------------   -----  \n",
      " 0   encounter_id              100111 non-null  int64  \n",
      " 1   patient_nbr               100111 non-null  int64  \n",
      " 2   race                      100111 non-null  object \n",
      " 3   gender                    100111 non-null  object \n",
      " 4   admission_type_id         100111 non-null  object \n",
      " 5   discharge_disposition_id  100111 non-null  object \n",
      " 6   admission_source_id       100111 non-null  object \n",
      " 7   time_in_hospital          100111 non-null  int64  \n",
      " 8   num_lab_procedures        100111 non-null  int64  \n",
      " 9   num_procedures            100111 non-null  int64  \n",
      " 10  num_medications           100111 non-null  int64  \n",
      " 11  number_outpatient         100111 non-null  int64  \n",
      " 12  number_emergency          100111 non-null  int64  \n",
      " 13  number_inpatient          100111 non-null  int64  \n",
      " 14  diag_1                    100111 non-null  object \n",
      " 15  diag_2                    100111 non-null  object \n",
      " 16  diag_3                    100111 non-null  object \n",
      " 17  number_diagnoses          100111 non-null  int64  \n",
      " 18  max_glu_serum             100111 non-null  object \n",
      " 19  A1Cresult                 100111 non-null  object \n",
      " 20  metformin                 100111 non-null  object \n",
      " 21  repaglinide               100111 non-null  object \n",
      " 22  nateglinide               100111 non-null  object \n",
      " 23  chlorpropamide            100111 non-null  object \n",
      " 24  glimepiride               100111 non-null  object \n",
      " 25  acetohexamide             100111 non-null  object \n",
      " 26  glipizide                 100111 non-null  object \n",
      " 27  glyburide                 100111 non-null  object \n",
      " 28  tolbutamide               100111 non-null  object \n",
      " 29  pioglitazone              100111 non-null  object \n",
      " 30  rosiglitazone             100111 non-null  object \n",
      " 31  acarbose                  100111 non-null  object \n",
      " 32  miglitol                  100111 non-null  object \n",
      " 33  troglitazone              100111 non-null  object \n",
      " 34  tolazamide                100111 non-null  object \n",
      " 35  insulin                   100111 non-null  object \n",
      " 36  glyburide-metformin       100111 non-null  object \n",
      " 37  glipizide-metformin       100111 non-null  object \n",
      " 38  glimepiride-pioglitazone  100111 non-null  object \n",
      " 39  metformin-rosiglitazone   100111 non-null  object \n",
      " 40  metformin-pioglitazone    100111 non-null  object \n",
      " 41  change                    100111 non-null  object \n",
      " 42  diabetesMed               100111 non-null  object \n",
      " 43  readmitted                100111 non-null  object \n",
      " 44  age_catg                  100111 non-null  float64\n",
      "dtypes: float64(1), int64(10), object(34)\n",
      "memory usage: 34.4+ MB\n"
     ]
    }
   ],
   "source": [
    "df.info()"
   ]
  },
  {
   "cell_type": "markdown",
   "id": "db60fb69-ce0c-4994-9cb2-ef8def43cabc",
   "metadata": {},
   "source": [
    "---"
   ]
  },
  {
   "cell_type": "markdown",
   "id": "33db0e33-196f-4f29-8e80-db98a6de07d4",
   "metadata": {},
   "source": [
    "### Data Exploration and Visualizations:"
   ]
  },
  {
   "cell_type": "code",
   "execution_count": 5,
   "id": "f76cc274-3587-4658-88aa-380782bc6066",
   "metadata": {},
   "outputs": [],
   "source": [
    "# Exploration Code I\n",
    "# Cells can be added and removed in this section, does NOT need these 3 specific cells"
   ]
  },
  {
   "cell_type": "code",
   "execution_count": 6,
   "id": "63a59c59-b868-4c48-9332-023767913191",
   "metadata": {},
   "outputs": [],
   "source": [
    "# Exploration Code II"
   ]
  },
  {
   "cell_type": "code",
   "execution_count": 7,
   "id": "7dcf8c2c-da77-4d00-8eb0-b15f3eef6b1b",
   "metadata": {},
   "outputs": [],
   "source": [
    "# Visualization Code"
   ]
  },
  {
   "cell_type": "markdown",
   "id": "0bc8051c-3633-4d19-abfd-51a1e33f0db5",
   "metadata": {},
   "source": [
    "---"
   ]
  },
  {
   "cell_type": "markdown",
   "id": "9e416106-6bf4-47b6-9a98-cb912c534cdf",
   "metadata": {},
   "source": [
    "### Data Preprocessing:"
   ]
  },
  {
   "cell_type": "code",
   "execution_count": 8,
   "id": "3e72d344-8cc9-47e6-b8a3-4a96febbc33d",
   "metadata": {},
   "outputs": [],
   "source": [
    "# Features missing more than 80% of values, unreasonable to impute so will drop instead\n",
    "\n",
    "df.drop(['max_glu_serum', 'A1Cresult'], axis = 1, inplace = True)"
   ]
  },
  {
   "cell_type": "code",
   "execution_count": 9,
   "id": "c5c50909-dffb-4a10-a9d8-bdf7f7cb23bc",
   "metadata": {},
   "outputs": [],
   "source": [
    "# Encode `NO` as 0 for no readmittance and `<30` & `>30` as 1 for readmittance in less than 30 days and in more than 30 days, respectively\n",
    "\n",
    "df['readmitted'].replace('NO', 0, inplace = True)\n",
    "df['readmitted'].replace(['<30', '>30'], 1, inplace = True)"
   ]
  },
  {
   "cell_type": "code",
   "execution_count": 10,
   "id": "65a1787e-2a83-4194-886f-126926739c68",
   "metadata": {},
   "outputs": [],
   "source": [
    "# Get feature list of medications\n",
    "\n",
    "list_meds = df.columns[18:39]"
   ]
  },
  {
   "cell_type": "code",
   "execution_count": 11,
   "id": "8003601c-7366-46f8-9871-e993623a2fe6",
   "metadata": {},
   "outputs": [
    {
     "name": "stdout",
     "output_type": "stream",
     "text": [
      "***** metformin ***** \n",
      "\n",
      "No        80214\n",
      "Steady    18255\n",
      "Up         1067\n",
      "Down        575\n",
      "Name: metformin, dtype: int64 \n",
      "\n",
      "***** insulin ***** \n",
      "\n",
      "No        46677\n",
      "Steady    30331\n",
      "Down      12012\n",
      "Up        11091\n",
      "Name: insulin, dtype: int64 \n",
      "\n"
     ]
    }
   ],
   "source": [
    "# Get medications that aren't mostly `No`, less than ~85%\n",
    "\n",
    "for med in list_meds:\n",
    "    if df[med].value_counts().iloc[0] < 85000:\n",
    "        print(f'***** {med} *****', '\\n')\n",
    "        print(df[med].value_counts(), '\\n')"
   ]
  },
  {
   "cell_type": "code",
   "execution_count": 12,
   "id": "4f3583ef-5686-46e6-a4fd-c53cb4d81e12",
   "metadata": {},
   "outputs": [],
   "source": [
    "# [race]\n",
    "race_dummies = pd.get_dummies(df['race'], drop_first = False, prefix = 'race', dtype = 'int64')\n",
    "df = pd.concat([df, race_dummies], axis = 1)\n",
    "\n",
    "# [gender]\n",
    "df['gender'].replace(['Female', 'Male'], [0, 1], inplace = True)\n",
    "\n",
    "# [admission_type_id]\n",
    "df['admission_type_id'].replace(['k', 'u'], [0, 1], inplace = True)\n",
    "\n",
    "# [discharge_disposition_id]\n",
    "discharge_dummies = pd.get_dummies(df['discharge_disposition_id'], drop_first = False, prefix = 'dcd', dtype = 'int64')\n",
    "df = pd.concat([df, discharge_dummies], axis = 1)\n",
    "\n",
    "# [admission_source_id]\n",
    "admission_dummies = pd.get_dummies(df['admission_source_id'], drop_first = False, prefix = 'ads', dtype = 'int64')\n",
    "df = pd.concat([df, admission_dummies], axis = 1)\n",
    "\n",
    "# [diag_1]\n",
    "diag1_dummies = pd.get_dummies(df['diag_1'], drop_first = False, prefix = 'd1', dtype = 'int64')\n",
    "df = pd.concat([df, diag1_dummies], axis = 1)\n",
    "\n",
    "# [diag_2]\n",
    "diag2_dummies = pd.get_dummies(df['diag_2'], drop_first = False, prefix = 'd2', dtype = 'int64')\n",
    "df = pd.concat([df, diag2_dummies], axis = 1)\n",
    "\n",
    "# [change]\n",
    "df['change'].replace(['No', 'Ch'], [0, 1], inplace = True)\n",
    "\n",
    "# [diabetesMed]\n",
    "df['diabetesMed'].replace(['No', 'Yes'], [0, 1], inplace = True)\n",
    "\n",
    "# [metformin]\n",
    "metformin_dummies = pd.get_dummies(df['metformin'], drop_first = False, prefix = 'met', dtype = 'int64')\n",
    "df = pd.concat([df, metformin_dummies], axis = 1)\n",
    "\n",
    "# [insulin]\n",
    "insulin_dummies = pd.get_dummies(df['insulin'], drop_first = False, prefix = 'ins', dtype = 'int64')\n",
    "df = pd.concat([df, insulin_dummies], axis = 1)\n",
    "\n",
    "df = df.drop(['race', 'discharge_disposition_id', 'admission_source_id', 'diag_1', 'diag_2', 'metformin', 'insulin'], axis = 1)\n",
    "\n",
    "remove_objects = list(df.dtypes[df.dtypes == 'object'].index)\n",
    "df = df.drop(remove_objects, axis = 1)"
   ]
  },
  {
   "cell_type": "code",
   "execution_count": 13,
   "id": "77bee7a6-a82c-4209-bd18-1962bdd632d3",
   "metadata": {},
   "outputs": [],
   "source": [
    "X = df.drop('readmitted', axis = 1)\n",
    "y = df['readmitted']"
   ]
  },
  {
   "cell_type": "code",
   "execution_count": 14,
   "id": "b58e3e62-f662-466f-a718-079b69c24d43",
   "metadata": {},
   "outputs": [],
   "source": [
    "# X_train, X_test, y_train, y_test = train_test_split(X, y, test_size = 0.3, random_state = 42)"
   ]
  },
  {
   "cell_type": "markdown",
   "id": "e13507ae-54c1-414d-a1cc-1b4ddab6526a",
   "metadata": {},
   "source": [
    "---"
   ]
  },
  {
   "cell_type": "markdown",
   "id": "a76868b4-2b49-4b37-9676-36eae499bc74",
   "metadata": {},
   "source": [
    "### Data Analysis:"
   ]
  },
  {
   "cell_type": "code",
   "execution_count": null,
   "id": "6ed17a2a-a1d2-437d-b713-867bc102940a",
   "metadata": {},
   "outputs": [],
   "source": [
    "# Data Analysis I\n",
    "# Cells can be added and removed in this section, does NOT need these 3 specific cells"
   ]
  },
  {
   "cell_type": "code",
   "execution_count": null,
   "id": "34eb727a-16c0-49c4-ae98-ee9cb15b388e",
   "metadata": {},
   "outputs": [],
   "source": [
    "# Data Analysis II"
   ]
  },
  {
   "cell_type": "code",
   "execution_count": null,
   "id": "f866744e-ab1a-491d-8364-c032561bcbc1",
   "metadata": {},
   "outputs": [],
   "source": [
    "# Data Analysis III"
   ]
  },
  {
   "cell_type": "markdown",
   "id": "b5565601-e311-4ec2-bdaa-8c9b7fab6b9f",
   "metadata": {},
   "source": [
    "---"
   ]
  }
 ],
 "metadata": {
  "kernelspec": {
   "display_name": "base",
   "language": "python",
   "name": "python3"
  },
  "language_info": {
   "codemirror_mode": {
    "name": "ipython",
    "version": 3
   },
   "file_extension": ".py",
   "mimetype": "text/x-python",
   "name": "python",
   "nbconvert_exporter": "python",
   "pygments_lexer": "ipython3",
   "version": "3.9.12"
  }
 },
 "nbformat": 4,
 "nbformat_minor": 5
}
