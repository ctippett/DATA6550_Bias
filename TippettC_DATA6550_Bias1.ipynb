{
 "cells": [
  {
   "cell_type": "markdown",
   "id": "67819832-11b4-45ad-9abc-d88855035dbc",
   "metadata": {},
   "source": [
    "# Data Bias\n"
   ]
  },
  {
   "cell_type": "raw",
   "id": "978ce7d9-2c87-4d41-be8a-a11826f3faa1",
   "metadata": {},
   "source": [
    "Module 2 Group Project - Bias\n",
    "DONE: Set up GitHub/GitHub/subfolders for each person\n",
    "DONE: Establish a communications plan\n",
    "DONE: Identify dataset with known biases\n",
    "OPEN: \n",
    "\n",
    "\n",
    "\n",
    "\t4. Confirm these biases exist with our own data analysis. \n",
    "\t5. do this as individuals and upload to GitHub\n",
    "\t6. bring this together in a single word document - 5 pages\n",
    "\t7. group discussions are also submitted\n",
    "\t8. the infrastructure is due next week. "
   ]
  },
  {
   "cell_type": "code",
   "execution_count": 1,
   "id": "526bcb6d-1495-4882-b743-29f177ee4261",
   "metadata": {},
   "outputs": [],
   "source": [
    "import datetime\n",
    "import numpy as np\n",
    "import pandas as pd\n",
    "import matplotlib.pyplot as plt\n",
    "import seaborn as sns\n",
    "import os\n"
   ]
  },
  {
   "cell_type": "code",
   "execution_count": 4,
   "id": "98bef0a4-3fc9-4c61-88b4-436cebb486d2",
   "metadata": {},
   "outputs": [
    {
     "name": "stdout",
     "output_type": "stream",
     "text": [
      "Crime_Data_from_2020_to_Present.csv\n",
      "Metro_Nashville_Police_Department_Calls_for_Service_2024_906551552617591677.csv\n"
     ]
    }
   ],
   "source": [
    "ls\n"
   ]
  },
  {
   "cell_type": "code",
   "execution_count": null,
   "id": "8ad65fb6-1ad4-49b1-b5d6-5802ed81ba2c",
   "metadata": {},
   "outputs": [],
   "source": [
    "df = pd.read_csv(\"data/Crime_Data_from_2020_to_Present.csv\", "
   ]
  }
 ],
 "metadata": {
  "kernelspec": {
   "display_name": "Python 3 (ipykernel)",
   "language": "python",
   "name": "python3"
  },
  "language_info": {
   "codemirror_mode": {
    "name": "ipython",
    "version": 3
   },
   "file_extension": ".py",
   "mimetype": "text/x-python",
   "name": "python",
   "nbconvert_exporter": "python",
   "pygments_lexer": "ipython3",
   "version": "3.12.3"
  }
 },
 "nbformat": 4,
 "nbformat_minor": 5
}
